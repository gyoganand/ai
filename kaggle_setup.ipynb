{
  "nbformat": 4,
  "nbformat_minor": 0,
  "metadata": {
    "colab": {
      "name": "kaggle-setup.ipynb",
      "provenance": [],
      "collapsed_sections": [],
      "authorship_tag": "ABX9TyNsXY2d24uIjetMnX5UN8RP",
      "include_colab_link": true
    },
    "kernelspec": {
      "name": "python3",
      "display_name": "Python 3"
    }
  },
  "cells": [
    {
      "cell_type": "markdown",
      "metadata": {
        "id": "view-in-github",
        "colab_type": "text"
      },
      "source": [
        "<a href=\"https://colab.research.google.com/github/gyoganand/ai/blob/master/kaggle_setup.ipynb\" target=\"_parent\"><img src=\"https://colab.research.google.com/assets/colab-badge.svg\" alt=\"Open In Colab\"/></a>"
      ]
    },
    {
      "cell_type": "code",
      "metadata": {
        "id": "HWNZAz9zHto5",
        "colab_type": "code",
        "colab": {
          "base_uri": "https://localhost:8080/",
          "height": 425
        },
        "outputId": "2e0f428c-5516-43b2-80b1-e6c612456d6e"
      },
      "source": [
        " import json\n",
        " token={\"username\":\"yoganandg\",\"key\":\"770b76312c7f32de8f3a866a93eb12e4\"}\n",
        " token = json.dumps(token)\n",
        " with open('/content/kaggle.json','w') as f:\n",
        "   f.write(str(token))\n",
        "!mkdir ~/.kaggle\n",
        "!cp /content/kaggle.json ~/.kaggle\n",
        "! chmod 600 ~/.kaggle/kaggle.json\n",
        "! kaggle datasets list"
      ],
      "execution_count": 19,
      "outputs": [
        {
          "output_type": "stream",
          "text": [
            "mkdir: cannot create directory ‘/root/.kaggle’: File exists\n",
            "Warning: Looks like you're using an outdated API Version, please consider updating (server 1.5.6 / client 1.5.4)\n",
            "ref                                                            title                                                size  lastUpdated          downloadCount  \n",
            "-------------------------------------------------------------  --------------------------------------------------  -----  -------------------  -------------  \n",
            "allen-institute-for-ai/CORD-19-research-challenge              COVID-19 Open Research Dataset Challenge (CORD-19)    1GB  2020-04-11 13:32:24          52225  \n",
            "roche-data-science-coalition/uncover                           UNCOVER COVID-19 Challenge                          123MB  2020-04-08 22:04:30           3705  \n",
            "praveengovi/coronahack-chest-xraydataset                       CoronaHack -Chest X-Ray-Dataset                       1GB  2020-03-20 01:26:40            485  \n",
            "katerpillar/meteonet                                           MeteoNet North-West France                           11GB  2020-04-16 08:35:45             18  \n",
            "andrewmvd/covid19-ct-scans                                     COVID-19 CT scans                                   662MB  2020-03-19 11:07:02            342  \n",
            "shuyangli94/interview-npr-media-dialog-transcripts             INTERVIEW: NPR Media Dialog Transcripts             293MB  2020-04-07 01:59:42             33  \n",
            "divyansh22/flight-delay-prediction                             January Flight Delay Prediction                      23MB  2020-04-14 13:15:41             73  \n",
            "tunguz/covid19-genomes                                         COVID-19 Genomes                                    133KB  2020-04-13 15:18:40             32  \n",
            "lalish99/covid19-mx                                            COVID-19 MX                                         754KB  2020-04-17 03:48:12             32  \n",
            "bobbyscience/league-of-legends-diamond-ranked-games-10-min     League of Legends Diamond Ranked Games (10 min)     539KB  2020-04-13 13:53:02             70  \n",
            "ikiulian/global-hospital-beds-capacity-for-covid19             Global Hospital Beds Capacity (for covid-19)        277KB  2020-04-15 15:15:32             87  \n",
            "benroshan/factors-affecting-campus-placement                   Campus Placement                                      5KB  2020-04-11 11:09:02            160  \n",
            "imdevskp/india-district-wise-shape-files                       India 2020 District Level Shape files                22MB  2020-04-10 09:03:16             42  \n",
            "kimjihoo/coronavirusdataset                                    Data Science for COVID-19 (DS4C)                      3MB  2020-04-14 05:18:00          29219  \n",
            "sudalairajkumar/novel-corona-virus-2019-dataset                Novel Corona Virus 2019 Dataset                     763KB  2020-04-17 04:33:14         148150  \n",
            "fireballbyedimyrnmom/us-counties-covid-19-dataset              US counties COVID 19 dataset                        525KB  2020-04-17 12:21:17           4290  \n",
            "clmentbisaillon/fake-and-real-news-dataset                     Fake and real news dataset                           41MB  2020-03-26 18:51:15           1426  \n",
            "unanimad/dataisbeautiful                                       Reddit - Data is Beautiful                           11MB  2020-04-14 14:11:20           1815  \n",
            "jessemostipak/hotel-booking-demand                             Hotel booking demand                                  1MB  2020-02-13 01:27:20          14956  \n",
            "paultimothymooney/covid19-containment-and-mitigation-measures  COVID-19 containment and mitigation measures        141KB  2020-04-16 20:40:52           1781  \n"
          ],
          "name": "stdout"
        }
      ]
    }
  ]
}